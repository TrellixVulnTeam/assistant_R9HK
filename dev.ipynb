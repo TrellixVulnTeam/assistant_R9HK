{
 "cells": [
  {
   "cell_type": "code",
   "execution_count": 8,
   "metadata": {},
   "outputs": [
    {
     "name": "stdout",
     "output_type": "stream",
     "text": [
      "Choose your server:\n",
      "Enter 1 for Outlook/hotmail\n",
      "Enter 2 for Gmail\n",
      "Or enter your own\n",
      "1\n",
      "Email: pepecirilo@hotmail.com\n",
      "Password: lifres27\n"
     ]
    }
   ],
   "source": [
    "#!/home/tumbling20s/projects/assistant/venv/bin/python\n",
    "'''\n",
    "Classifies emails into some predefined folders  \n",
    "'''\n",
    "from imapclient import IMAPClient\n",
    "from pyzmail import PyzMessage\n",
    "from time import sleep\n",
    "from os import system\n",
    "from pprint import pprint\n",
    "\n",
    "#establish connection to server and login\n",
    "\n",
    "server= input('Choose your server:\\nEnter 1 for Outlook/hotmail\\nEnter 2 for Gmail\\nOr enter your own\\n')\n",
    "if server in ('1','2'):\n",
    "        imapObj = IMAPClient(('imap-mail.outlook.com','imap.gmail.com')[int(server)-1],ssl=True)\n",
    "else: imapObj = IMAPClient(server,ssl=True)\n",
    "\n",
    "\n",
    "imapObj.login(input('Email: '), input('Password: '))\n",
    "\n",
    "\n",
    "#select folder\n",
    "imapObj.select_folder('INBOX')\n",
    "\n",
    "#search all mail ids\n",
    "UIDS = imapObj.search(['ALL'])\n",
    "\n",
    "#fetch the emails \n",
    "rawMessages = imapObj.fetch(UIDS[:2000], ['BODY[]'])\n",
    "\n",
    "#create a list of senders\n",
    "senders = []\n",
    "\n",
    "#example of classification\n",
    "classification={'trash':[],'friends':[],'memories':[]}\n",
    "#loop over each message\n",
    "for msg in UIDS[:20]:\n",
    "    message = PyzMessage.factory(rawMessages[msg][b'BODY[]'])\n",
    "    senders.append(message.get_addresses('from'))\n",
    "    #TODO check some conditions to classify the message    \n",
    "    '''\n",
    "    if condition1:\n",
    "        classification['trash'].append(msg)\n",
    "    elif condition2:\n",
    "        classification['friends'].append(msg)    \n",
    "    elif condition2:\n",
    "        classification['memories'].append(msg)\n",
    "    else:\n",
    "        pass?     \n",
    "        \n",
    "    for folder in classification.items():\n",
    "        ##for msg in folder[1]: \n",
    "            ##move msg to folder[0]\n",
    "    '''\n",
    "##TODO do something with the classification\n",
    "\n",
    "\n"
   ]
  },
  {
   "cell_type": "code",
   "execution_count": 11,
   "metadata": {},
   "outputs": [
    {
     "name": "stdout",
     "output_type": "stream",
     "text": [
      "[[('Productos Cotizados', 'lph.warrants@sgcib.com')], [('Guggenheim Investments', 'no-reply-gi@guggenheiminvestments.com')], [('Productos Cotizados', 'lph.warrants@sgcib.com')], [('Productos Cotizados', 'lph.warrants@sgcib.com')], [('Productos Cotizados', 'lph.warrants@sgcib.com')], [('Calendario de Outlook.com', 'calendarnotification@outlook.com')], [('Productos Cotizados', 'lph.warrants@sgcib.com')], [('Productos Cotizados', 'lph.warrants@sgcib.com')], [('Productos Cotizados', 'lph.warrants@sgcib.com')], [('Productos Cotizados', 'lph.warrants@sgcib.com')], [('Productos Cotizados', 'lph.warrants@sgcib.com')], [('Calendario de Outlook.com', 'calendarnotification@outlook.com')], [('Productos Cotizados', 'lph.warrants@sgcib.com')], [('Productos Cotizados', 'lph.warrants@sgcib.com')], [('Productos Cotizados', 'lph.warrants@sgcib.com')]]\n"
     ]
    }
   ],
   "source": [
    "enumerate()"
   ]
  },
  {
   "cell_type": "code",
   "execution_count": null,
   "metadata": {},
   "outputs": [],
   "source": []
  }
 ],
 "metadata": {
  "kernelspec": {
   "display_name": "Python 3",
   "language": "python",
   "name": "python3"
  },
  "language_info": {
   "codemirror_mode": {
    "name": "ipython",
    "version": 3
   },
   "file_extension": ".py",
   "mimetype": "text/x-python",
   "name": "python",
   "nbconvert_exporter": "python",
   "pygments_lexer": "ipython3",
   "version": "3.7.5"
  }
 },
 "nbformat": 4,
 "nbformat_minor": 2
}
