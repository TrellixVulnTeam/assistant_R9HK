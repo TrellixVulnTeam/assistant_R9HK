{
 "cells": [
  {
   "cell_type": "code",
   "execution_count": null,
   "metadata": {},
   "outputs": [],
   "source": [
    "#!/home/tumbling20s/projects/assistant/venv/bin/python\n",
    "'''\n",
    "Sets a 45min timer after displaying an info message. \n",
    "5 min before the end alerts the user. The user can delay by not accepting nor closing the alert message.   \n",
    "'''\n",
    "from tkinter import messagebox,Tk\n",
    "from time import sleep\n",
    "from os import system\n",
    "\n",
    "# hide main window\n",
    "root = Tk()\n",
    "root.withdraw()\n",
    "s=messagebox.showinfo(\"Info\", \"You got 45 min\")\n",
    "\n",
    "MINUTES=45\n",
    "sleep((MINUTES-5)*60)\n",
    "\n",
    "# message box display\n",
    "s=messagebox.showwarning(\"Warning\",\"5 min to Finnish\")\n",
    "\n",
    "if s=='ok':\n",
    "    sleep(300)\n",
    "    os.system('systemctl suspend')\n"
   ]
  },
  {
   "cell_type": "code",
   "execution_count": 11,
   "metadata": {},
   "outputs": [],
   "source": [
    "\n",
    "\n"
   ]
  }
 ],
 "metadata": {
  "kernelspec": {
   "display_name": "Python 3",
   "language": "python",
   "name": "python3"
  },
  "language_info": {
   "codemirror_mode": {
    "name": "ipython",
    "version": 3
   },
   "file_extension": ".py",
   "mimetype": "text/x-python",
   "name": "python",
   "nbconvert_exporter": "python",
   "pygments_lexer": "ipython3",
   "version": "3.7.4"
  }
 },
 "nbformat": 4,
 "nbformat_minor": 2
}
