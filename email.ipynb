{
 "cells": [
  {
   "cell_type": "code",
   "execution_count": 89,
   "metadata": {},
   "outputs": [],
   "source": [
    "#!/home/tumbling20s/projects/assistant/venv/bin/python\n",
    "'''\n",
    "Classifies emails into some predefined folders  \n",
    "'''\n",
    "from imapclient import IMAPClient\n",
    "from pyzmail import PyzMessage\n",
    "from time import sleep\n",
    "from os import system\n",
    "from pprint import pprint\n",
    "\n",
    "#establish connection to server and login\n",
    "imapObj = IMAPClient('imap-mail.outlook.com',ssl=True)\n",
    "imapObj.login('pepecirilo@hotmail.com', 'lifres27')\n",
    "\n",
    "#select folder\n",
    "imapObj.select_folder('INBOX')\n",
    "\n",
    "#search all mail ids\n",
    "UIDS = imapObj.search(['ALL'])\n",
    "\n",
    "#fetch the emails \n",
    "rawMessages = imapObj.fetch(UIDS[:2000], ['BODY[]'])\n",
    "\n",
    "#create a list of senders\n",
    "senders = []\n",
    "\n",
    "#example of classification\n",
    "classification={'trash':[],'friends':[],'memories':[]}\n",
    "#loop over each message\n",
    "for msg in UIDS[:2000]:\n",
    "    message = PyzMessage.factory(rawMessages[msg][b'BODY[]'])\n",
    "    senders.append(message.get_addresses('from'))\n",
    "    #TODO check some conditions to classify the message, check pyzmail.PyzMessage.factory() attributes \n",
    "    #to find conditions\n",
    "    '''\n",
    "    if condition1:\n",
    "        classification['trash'].append(msg)\n",
    "    elif condition2:\n",
    "        classification['friends'].append(msg)    \n",
    "    elif condition2:\n",
    "        classification['memories'].append(msg)\n",
    "    else:\n",
    "        pass?       \n",
    "    '''\n",
    "##TODO do something with the classification, actually delete or move mails to corresponding folders\n",
    "\n",
    "\n"
   ]
  }
 ],
 "metadata": {
  "kernelspec": {
   "display_name": "Python 3",
   "language": "python",
   "name": "python3"
  },
  "language_info": {
   "codemirror_mode": {
    "name": "ipython",
    "version": 3
   },
   "file_extension": ".py",
   "mimetype": "text/x-python",
   "name": "python",
   "nbconvert_exporter": "python",
   "pygments_lexer": "ipython3",
   "version": "3.7.4"
  }
 },
 "nbformat": 4,
 "nbformat_minor": 2
}
